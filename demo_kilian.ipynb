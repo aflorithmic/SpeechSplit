{
 "cells": [
  {
   "cell_type": "code",
   "execution_count": 2,
   "metadata": {},
   "outputs": [],
   "source": [
    "# demo conversion\n",
    "import torch\n",
    "import pickle\n",
    "import numpy as np\n",
    "from hparams import hparams\n",
    "from utils import pad_seq_to_2\n",
    "from utils import quantize_f0_numpy\n",
    "from model import Generator_3 as Generator\n",
    "from model import Generator_6 as F0_Converter\n",
    "\n",
    "\n",
    "device = 'cpu'\n",
    "G = Generator(hparams).eval().to(device)\n",
    "g_checkpoint = torch.load('assets/660000-G.ckpt', map_location=lambda storage, loc: storage)\n",
    "G.load_state_dict(g_checkpoint['model'])\n",
    "\n",
    "P = F0_Converter(hparams).eval().to(device)\n",
    "p_checkpoint = torch.load('assets/640000-P.ckpt', map_location=lambda storage, loc: storage)\n",
    "P.load_state_dict(p_checkpoint['model'])\n",
    "\n",
    "\n",
    "metadata = pickle.load(open('assets/demo.pkl', \"rb\"))\n",
    "\n",
    "\n",
    "sbmt_i = metadata[0]\n",
    "emb_org = torch.from_numpy(sbmt_i[1]).to(device)\n",
    "x_org, f0_org, len_org, uid_org = sbmt_i[2]        \n",
    "uttr_org_pad, len_org_pad = pad_seq_to_2(x_org[np.newaxis,:,:], 192)\n",
    "uttr_org_pad = torch.from_numpy(uttr_org_pad).to(device)\n",
    "f0_org_pad = np.pad(f0_org, (0, 192-len_org), 'constant', constant_values=(0, 0))\n",
    "f0_org_quantized = quantize_f0_numpy(f0_org_pad)[0]\n",
    "f0_org_onehot = f0_org_quantized[np.newaxis, :, :]\n",
    "f0_org_onehot = torch.from_numpy(f0_org_onehot).to(device)\n",
    "uttr_f0_org = torch.cat((uttr_org_pad, f0_org_onehot), dim=-1)\n",
    "\n",
    "sbmt_j = metadata[1]\n",
    "emb_trg = torch.from_numpy(sbmt_j[1]).to(device)\n",
    "x_trg, f0_trg, len_trg, uid_trg = sbmt_j[2]        \n",
    "uttr_trg_pad, len_trg_pad = pad_seq_to_2(x_trg[np.newaxis,:,:], 192)\n",
    "uttr_trg_pad = torch.from_numpy(uttr_trg_pad).to(device)\n",
    "f0_trg_pad = np.pad(f0_trg, (0, 192-len_trg), 'constant', constant_values=(0, 0))\n",
    "f0_trg_quantized = quantize_f0_numpy(f0_trg_pad)[0]\n",
    "f0_trg_onehot = f0_trg_quantized[np.newaxis, :, :]\n",
    "f0_trg_onehot = torch.from_numpy(f0_trg_onehot).to(device)\n",
    "\n",
    "with torch.no_grad():\n",
    "    f0_pred = P(uttr_org_pad, f0_trg_onehot)[0]\n",
    "    f0_pred_quantized = f0_pred.argmax(dim=-1).squeeze(0)\n",
    "    f0_con_onehot = torch.zeros((1, 192, 257), device=device)\n",
    "    f0_con_onehot[0, torch.arange(192), f0_pred_quantized] = 1\n",
    "uttr_f0_trg = torch.cat((uttr_org_pad, f0_con_onehot), dim=-1)    \n",
    "\n",
    "\n",
    "conditions = ['R', 'F', 'U', 'RF', 'RU', 'FU', 'RFU']\n",
    "spect_vc = []\n",
    "with torch.no_grad():\n",
    "    for condition in conditions:\n",
    "        if condition == 'R':\n",
    "            x_identic_val = G(uttr_f0_org, uttr_trg_pad, emb_org)\n",
    "        if condition == 'F':\n",
    "            x_identic_val = G(uttr_f0_trg, uttr_org_pad, emb_org)\n",
    "        if condition == 'U':\n",
    "            x_identic_val = G(uttr_f0_org, uttr_org_pad, emb_trg)\n",
    "        if condition == 'RF':\n",
    "            x_identic_val = G(uttr_f0_trg, uttr_trg_pad, emb_org)\n",
    "        if condition == 'RU':\n",
    "            x_identic_val = G(uttr_f0_org, uttr_trg_pad, emb_trg)\n",
    "        if condition == 'FU':\n",
    "            x_identic_val = G(uttr_f0_trg, uttr_org_pad, emb_trg)\n",
    "        if condition == 'RFU':\n",
    "            x_identic_val = G(uttr_f0_trg, uttr_trg_pad, emb_trg)\n",
    "            \n",
    "        if 'R' in condition:\n",
    "            uttr_trg = x_identic_val[0, :len_trg, :].cpu().numpy()\n",
    "        else:\n",
    "            uttr_trg = x_identic_val[0, :len_org, :].cpu().numpy()\n",
    "                \n",
    "        spect_vc.append( ('{}_{}_{}_{}'.format(sbmt_i[0], sbmt_j[0], uid_org, condition), uttr_trg ) )       "
   ]
  },
  {
   "cell_type": "code",
   "execution_count": 6,
   "metadata": {},
   "outputs": [
    {
     "output_type": "error",
     "ename": "ModuleNotFoundError",
     "evalue": "No module named 'wavenet_vocoder.synthesis'",
     "traceback": [
      "\u001b[0;31m---------------------------------------------------------------------------\u001b[0m",
      "\u001b[0;31mModuleNotFoundError\u001b[0m                       Traceback (most recent call last)",
      "\u001b[0;32m<ipython-input-6-0d16e2f6e6eb>\u001b[0m in \u001b[0;36m<module>\u001b[0;34m\u001b[0m\n\u001b[1;32m      6\u001b[0m \u001b[0;31m#from wavenet_vocoder.wavenet_vocoder.synthesis import build_model\u001b[0m\u001b[0;34m\u001b[0m\u001b[0;34m\u001b[0m\u001b[0;34m\u001b[0m\u001b[0m\n\u001b[1;32m      7\u001b[0m \u001b[0;31m#from wavenet_vocoder.synthesis import wavegen\u001b[0m\u001b[0;34m\u001b[0m\u001b[0;34m\u001b[0m\u001b[0;34m\u001b[0m\u001b[0m\n\u001b[0;32m----> 8\u001b[0;31m \u001b[0;32mfrom\u001b[0m \u001b[0mwavenet_vocoder\u001b[0m\u001b[0;34m.\u001b[0m\u001b[0msynthesis\u001b[0m \u001b[0;32mimport\u001b[0m \u001b[0mbuild_model\u001b[0m\u001b[0;34m\u001b[0m\u001b[0;34m\u001b[0m\u001b[0m\n\u001b[0m\u001b[1;32m      9\u001b[0m \u001b[0;34m\u001b[0m\u001b[0m\n\u001b[1;32m     10\u001b[0m \u001b[0;32mif\u001b[0m \u001b[0;32mnot\u001b[0m \u001b[0mos\u001b[0m\u001b[0;34m.\u001b[0m\u001b[0mpath\u001b[0m\u001b[0;34m.\u001b[0m\u001b[0mexists\u001b[0m\u001b[0;34m(\u001b[0m\u001b[0;34m'results'\u001b[0m\u001b[0;34m)\u001b[0m\u001b[0;34m:\u001b[0m\u001b[0;34m\u001b[0m\u001b[0;34m\u001b[0m\u001b[0m\n",
      "\u001b[0;31mModuleNotFoundError\u001b[0m: No module named 'wavenet_vocoder.synthesis'"
     ]
    }
   ],
   "source": [
    "# spectrogram to waveform\n",
    "import torch\n",
    "import librosa\n",
    "import pickle\n",
    "import os\n",
    "#from wavenet_vocoder.wavenet_vocoder.synthesis import build_model\n",
    "#from wavenet_vocoder.synthesis import wavegen\n",
    "from autovc.synthesis import build_model \n",
    "\n",
    "if not os.path.exists('results'):\n",
    "    os.makedirs('results')\n",
    "\n",
    "model = build_model().to(device)\n",
    "checkpoint = torch.load(\"assets/checkpoint_step001000000_ema.pth\")\n",
    "model.load_state_dict(checkpoint[\"state_dict\"])\n",
    "\n",
    "for spect in spect_vc:\n",
    "    name = spect[0]\n",
    "    c = spect[1]\n",
    "    print(name)\n",
    "    waveform = wavegen(model, c=c)   \n",
    "    librosa.output.write_wav('results/'+name+'.wav', waveform, sr=16000)"
   ]
  },
  {
   "cell_type": "code",
   "execution_count": null,
   "metadata": {},
   "outputs": [],
   "source": []
  }
 ],
 "metadata": {
  "kernelspec": {
   "name": "Python 3.7.6 64-bit ('base': conda)",
   "display_name": "Python 3.7.6 64-bit ('base': conda)",
   "metadata": {
    "interpreter": {
     "hash": "dca0ade3e726a953b501b15e8e990130d2b7799f14cfd9f4271676035ebe5511"
    }
   }
  },
  "language_info": {
   "codemirror_mode": {
    "name": "ipython",
    "version": 3
   },
   "file_extension": ".py",
   "mimetype": "text/x-python",
   "name": "python",
   "nbconvert_exporter": "python",
   "pygments_lexer": "ipython3",
   "version": "3.7.6-final"
  }
 },
 "nbformat": 4,
 "nbformat_minor": 4
}